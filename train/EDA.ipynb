{
 "cells": [
  {
   "cell_type": "markdown",
   "metadata": {},
   "source": [
    "# Exploratory data analysis"
   ]
  },
  {
   "cell_type": "markdown",
   "metadata": {},
   "source": [
    "## Training data"
   ]
  },
  {
   "cell_type": "code",
   "execution_count": 207,
   "metadata": {},
   "outputs": [
    {
     "name": "stdout",
     "output_type": "stream",
     "text": [
      "\n",
      "shape =  (17844, 2)\n",
      "\n",
      "shape =  (17844, 2)\n",
      "\n",
      " text     object\n",
      "senti     int64\n",
      "dtype: object\n",
      "\n",
      " text       object\n",
      "senti    category\n",
      "dtype: object\n",
      "\n",
      "\tdf.shape =  (17844, 2)\n"
     ]
    },
    {
     "data": {
      "text/html": [
       "<div>\n",
       "<style scoped>\n",
       "    .dataframe tbody tr th:only-of-type {\n",
       "        vertical-align: middle;\n",
       "    }\n",
       "\n",
       "    .dataframe tbody tr th {\n",
       "        vertical-align: top;\n",
       "    }\n",
       "\n",
       "    .dataframe thead th {\n",
       "        text-align: right;\n",
       "    }\n",
       "</style>\n",
       "<table border=\"1\" class=\"dataframe\">\n",
       "  <thead>\n",
       "    <tr style=\"text-align: right;\">\n",
       "      <th></th>\n",
       "      <th>text</th>\n",
       "      <th>senti</th>\n",
       "    </tr>\n",
       "  </thead>\n",
       "  <tbody>\n",
       "    <tr>\n",
       "      <th>0</th>\n",
       "      <td>$3.98 Billion in Sales Expected for Jacobs Eng...</td>\n",
       "      <td>1</td>\n",
       "    </tr>\n",
       "    <tr>\n",
       "      <th>1</th>\n",
       "      <td>Operating result , excluding one-off items , t...</td>\n",
       "      <td>-1</td>\n",
       "    </tr>\n",
       "    <tr>\n",
       "      <th>2</th>\n",
       "      <td>great app, better than Google's free one. but ...</td>\n",
       "      <td>0</td>\n",
       "    </tr>\n",
       "    <tr>\n",
       "      <th>3</th>\n",
       "      <td>said trump polit dive market spi nk</td>\n",
       "      <td>-1</td>\n",
       "    </tr>\n",
       "    <tr>\n",
       "      <th>4</th>\n",
       "      <td>qqq spi iwm spx rut</td>\n",
       "      <td>-1</td>\n",
       "    </tr>\n",
       "  </tbody>\n",
       "</table>\n",
       "</div>"
      ],
      "text/plain": [
       "                                                text senti\n",
       "0  $3.98 Billion in Sales Expected for Jacobs Eng...     1\n",
       "1  Operating result , excluding one-off items , t...    -1\n",
       "2  great app, better than Google's free one. but ...     0\n",
       "3                said trump polit dive market spi nk    -1\n",
       "4                                qqq spi iwm spx rut    -1"
      ]
     },
     "execution_count": 207,
     "metadata": {},
     "output_type": "execute_result"
    }
   ],
   "source": [
    "import pandas as pd\n",
    "\n",
    "fname = '../../datasets/tiingo_tweets/all_tweets_headlines_17844.csv'  \n",
    "\n",
    "df = pd.read_csv(fname)\n",
    "\n",
    "print('\\nshape = ',df.shape)\n",
    "\n",
    "df.dropna(axis=0,how='any',inplace=True)\n",
    "\n",
    "print('\\nshape = ',df.shape)\n",
    "\n",
    "print('\\n',df.dtypes)\n",
    "\n",
    "df['senti'] = df['senti'].astype('category')\n",
    "\n",
    "print('\\n',df.dtypes)\n",
    "\n",
    "print('\\n\\tdf.shape = ',df.shape)\n",
    "\n",
    "df.head()"
   ]
  },
  {
   "cell_type": "code",
   "execution_count": 208,
   "metadata": {},
   "outputs": [
    {
     "name": "stdout",
     "output_type": "stream",
     "text": [
      "Index unique ?  True\n"
     ]
    },
    {
     "data": {
      "text/html": [
       "<div>\n",
       "<style scoped>\n",
       "    .dataframe tbody tr th:only-of-type {\n",
       "        vertical-align: middle;\n",
       "    }\n",
       "\n",
       "    .dataframe tbody tr th {\n",
       "        vertical-align: top;\n",
       "    }\n",
       "\n",
       "    .dataframe thead th {\n",
       "        text-align: right;\n",
       "    }\n",
       "</style>\n",
       "<table border=\"1\" class=\"dataframe\">\n",
       "  <thead>\n",
       "    <tr style=\"text-align: right;\">\n",
       "      <th></th>\n",
       "      <th>text</th>\n",
       "      <th>senti</th>\n",
       "    </tr>\n",
       "  </thead>\n",
       "  <tbody>\n",
       "  </tbody>\n",
       "</table>\n",
       "</div>"
      ],
      "text/plain": [
       "Empty DataFrame\n",
       "Columns: [text, senti]\n",
       "Index: []"
      ]
     },
     "execution_count": 208,
     "metadata": {},
     "output_type": "execute_result"
    }
   ],
   "source": [
    "print('Index unique ? ',df.index.is_unique)\n",
    "\n",
    "if not df.index.is_unique:\n",
    " print('\\nResetting')   \n",
    " df.reset_index(drop=True,inplace=True)\n",
    " print(df.index.is_unique)\n",
    "\n",
    "df[df.index.duplicated(keep=False)]"
   ]
  },
  {
   "cell_type": "code",
   "execution_count": 209,
   "metadata": {},
   "outputs": [
    {
     "name": "stdout",
     "output_type": "stream",
     "text": [
      "  1    5948\n",
      " 0    5948\n",
      "-1    5948\n",
      "Name: senti, dtype: int64\n"
     ]
    },
    {
     "data": {
      "image/png": "[encoded data removed]",
      "text/plain": [
       "<Figure size 432x288 with 1 Axes>"
      ]
     },
     "metadata": {
      "needs_background": "light"
     },
     "output_type": "display_data"
    }
   ],
   "source": [
    "import seaborn as sns\n",
    "import matplotlib.pyplot as plt\n",
    "\n",
    "print('',df['senti'].value_counts())\n",
    "\n",
    "plt.figure(1)\n",
    "sns.countplot(df.senti)\n",
    "\n",
    "plt.show()"
   ]
  },
  {
   "cell_type": "markdown",
   "metadata": {},
   "source": [
    "## Drop tweets with more than 5 cashtags"
   ]
  },
  {
   "cell_type": "code",
   "execution_count": 210,
   "metadata": {},
   "outputs": [
    {
     "name": "stdout",
     "output_type": "stream",
     "text": [
      "\n",
      "Entered*** \n",
      "\n",
      "Entered*** \n",
      "(17627, 2)\n",
      "(17627,)\n"
     ]
    },
    {
     "data": {
      "text/plain": [
       "False    17627\n",
       "Name: text, dtype: int64"
      ]
     },
     "execution_count": 210,
     "metadata": {},
     "output_type": "execute_result"
    }
   ],
   "source": [
    "import text_clean as tc\n",
    "import importlib\n",
    "importlib.reload(tc)\n",
    "\n",
    "import text_clean as tc\n",
    "import importlib\n",
    "importlib.reload(tc)\n",
    "\n",
    "cond = df['text'].apply(lambda x : tc.count_cashtags(x) > 5)\n",
    "\n",
    "#cond.shape\n",
    "df.drop(index=df[cond].index,inplace=True)\n",
    "\n",
    "print(df.shape)\n",
    "\n",
    "cond2 = df['text'].apply(lambda x : tc.count_cashtags(x) > 5)\n",
    "\n",
    "print(cond2.shape)\n",
    "cond2.value_counts()"
   ]
  },
  {
   "cell_type": "code",
   "execution_count": 211,
   "metadata": {},
   "outputs": [
    {
     "name": "stdout",
     "output_type": "stream",
     "text": [
      "\n",
      "nrows =  17627\n",
      "\n",
      "Done cleaning\n"
     ]
    }
   ],
   "source": [
    "nrows = df.shape[0]\n",
    "print('\\nnrows = ',nrows)\n",
    "\n",
    "df['tidy_text'] = df['text'].apply(lambda x : tc.clean_emoji_url(x))\n",
    "df['tidy_text'] = df['tidy_text'].apply(lambda x : tc.remove_hashtag(x))\n",
    "df['tidy_text'] = df['tidy_text'].apply(lambda x : tc.remove_cashtag(x))\n",
    "df['tidy_text'] = df['tidy_text'].apply(lambda x : tc.remove_mention(x))\n",
    "df['tidy_text'] = df['tidy_text'].apply(lambda x : tc.replace_chars(x))\n",
    "df['tidy_text'] = df['tidy_text'].apply(lambda x : tc.normalize_doc(x))\n",
    "\n",
    "print('\\nDone cleaning')"
   ]
  },
  {
   "cell_type": "markdown",
   "metadata": {},
   "source": [
    "## Drop tweets/text with zero tokens"
   ]
  },
  {
   "cell_type": "code",
   "execution_count": 212,
   "metadata": {},
   "outputs": [
    {
     "name": "stdout",
     "output_type": "stream",
     "text": [
      "Index(['text', 'senti', 'tidy_text'], dtype='object')\n",
      "(17627,)\n",
      "(17581, 3)\n",
      "(17581,)\n"
     ]
    },
    {
     "data": {
      "text/plain": [
       "False    17581\n",
       "Name: tidy_text, dtype: int64"
      ]
     },
     "execution_count": 212,
     "metadata": {},
     "output_type": "execute_result"
    }
   ],
   "source": [
    "print(df.columns)\n",
    "\n",
    "cond = df['tidy_text'].apply(lambda x : tc.count_toks(x) == 0)\n",
    "\n",
    "print(cond.shape)\n",
    "cond.value_counts()\n",
    "\n",
    "df.drop(index=df[cond].index,inplace=True)\n",
    "print(df.shape)\n",
    "\n",
    "cond2 = df['tidy_text'].apply(lambda x : tc.count_toks(x) == 0)\n",
    "\n",
    "print(cond2.shape)\n",
    "\n",
    "cond2.value_counts()\n"
   ]
  },
  {
   "cell_type": "code",
   "execution_count": 213,
   "metadata": {},
   "outputs": [
    {
     "name": "stdout",
     "output_type": "stream",
     "text": [
      "\n",
      "nrows =  17581\n"
     ]
    }
   ],
   "source": [
    "from nltk.tokenize import word_tokenize\n",
    "from collections import Counter\n",
    "import matplotlib.pyplot as plt\n",
    "import numpy as np\n",
    "from itertools import chain\n",
    "\n",
    "nrows = df.shape[0]\n",
    "\n",
    "print('\\nnrows = ',nrows)\n",
    "\n",
    "all_words_toks = []\n",
    "\n",
    "for ii in np.arange(nrows):\n",
    " txt = df.iloc[ii]['tidy_text']   \n",
    " all_words_toks.append(word_tokenize(txt))\n",
    "\n",
    "flat_all_words = list(chain(*all_words_toks))"
   ]
  },
  {
   "cell_type": "code",
   "execution_count": 214,
   "metadata": {},
   "outputs": [
    {
     "name": "stdout",
     "output_type": "stream",
     "text": [
      "\n",
      "len(flat_all_words) =  210372\n",
      "\n",
      "sum =  210372\n",
      "\n",
      "100 most common words : \n",
      "\n",
      " ('app', 'spi', 'use', 'task', 'eur', 'time', 'up', 'work', 'like', 'compani', 'day', 'one', 'list', 'year', 'great', 'new', 'good', 'love', 'market', 'share', 'make', 'calendar', 'need', 'help', 'set', 'featur', 'go', 'remind', 'sale', 'look', 'realli', 'said', 'oper', 'mn', 'tri', 'want', 'updat', 'stock', 'version', 'million', 'buy', 'see', 'even', 'option', 'ad', 'today', 'finnish', 'profit', 'keep', 'phone', 'product', 'down', 'group', 'thing', 'habit', 'way', 'develop', 'start', 'servic', 'chang', 'week', 'first', 'googl', 'add', 'sync', 'net', 'could', 'back', 'premium', 'still', 'busi', 'say', 'widget', 'well', 'off', 'month', 'free', 'price', 'event', 'manag', 'pleas', 'expect', 'easi', 'sell', 'complet', 'over', 'open', 'much', 'short', 'best', 'show', 'finland', 'pay', 'inc', 'come', 'daili', 'wunderlist', 'long', 'total', 'nice')\n",
      "\n",
      "\n",
      "10 random words and their counts :\n",
      "\n",
      "#  dark :    59\n",
      "#  vix :   161\n",
      "#  seem :   223\n",
      "#  march :    75\n",
      "#  vote :    72\n",
      "#  entir :    65\n",
      "#  annual :    99\n",
      "#  healthcar :    40\n",
      "#  ok  :   103\n",
      "#  tick :    65\n"
     ]
    },
    {
     "data": {
      "image/png": "[encoded data removed]",
      "text/plain": [
       "<Figure size 432x288 with 1 Axes>"
      ]
     },
     "metadata": {
      "needs_background": "light"
     },
     "output_type": "display_data"
    }
   ],
   "source": [
    "import random\n",
    "\n",
    "print('\\nlen(flat_all_words) = ',len(flat_all_words))\n",
    "\n",
    "counter_obj = Counter(flat_all_words)\n",
    "comm = counter_obj.most_common(20)\n",
    "\n",
    "#print('\\nlen(comm) = ',len(comm))\n",
    "\n",
    "plt.figure(1)\n",
    "labels, ys = zip(*comm)\n",
    "\n",
    "sm =  sum(counter_obj.values())\n",
    "print('\\nsum = ',sm)\n",
    "\n",
    "fys = 100*np.asarray(ys)/float(sm)\n",
    "\n",
    "xs = np.arange(len(labels)) \n",
    "\n",
    "plt.figure(1)\n",
    "xs = np.arange(len(labels)) \n",
    "plt.bar(xs, fys, width=0.8, align='center')\n",
    "plt.xticks(xs, labels, rotation=60);  \n",
    "plt.ylabel('% of total number of words')\n",
    "plt.title('Frequency of top 20 words in cleaned text',fontsize=15)\n",
    "#plt.savefig('figs/freq_topwords_headlines_perc.png', bbox_inches = 'tight')\n",
    "\n",
    "comm = counter_obj.most_common(100)\n",
    "labels, ys = zip(*comm)\n",
    "print('\\n100 most common words : \\n\\n',labels)\n",
    "#print('\\nys = ',list(ys))\n",
    "\n",
    "print('\\n\\n10 random words and their counts :\\n')\n",
    "\n",
    "comm1000 = counter_obj.most_common(1000)\n",
    "\n",
    "for key,value in random.sample(comm1000,10):\n",
    " print('#  {0:3s} : {1:5d}'.format(key,value)) "
   ]
  },
  {
   "cell_type": "markdown",
   "metadata": {},
   "source": [
    "# Streaming tesla tweets"
   ]
  },
  {
   "cell_type": "code",
   "execution_count": 215,
   "metadata": {},
   "outputs": [
    {
     "data": {
      "text/plain": [
       "(10917, 7)"
      ]
     },
     "execution_count": 215,
     "metadata": {},
     "output_type": "execute_result"
    }
   ],
   "source": [
    "cols = ['id','date','tweet','retweet_count','favorite_count',\n",
    "        'screen_name','name','verified','followers_count','friends_count',\n",
    "        'source','user_url']\n",
    "\n",
    "fname = 'streaming_tweets_save.csv'  \n",
    "\n",
    "df2 = pd.read_csv(fname,header=None, names=cols, index_col=False)\n",
    "\n",
    "df2.drop(columns=['id','date','name','source','user_url'], inplace=True)\n",
    "\n",
    "df2.dropna(axis=0,how='any',inplace=True)\n",
    "\n",
    "df2.shape"
   ]
  },
  {
   "cell_type": "markdown",
   "metadata": {},
   "source": [
    "## How many of these users have \"verified\" accounts ?"
   ]
  },
  {
   "cell_type": "code",
   "execution_count": 216,
   "metadata": {},
   "outputs": [
    {
     "data": {
      "text/plain": [
       "(7258, 7)"
      ]
     },
     "execution_count": 216,
     "metadata": {},
     "output_type": "execute_result"
    }
   ],
   "source": [
    "df3 = df2.drop_duplicates('screen_name', keep='first')\n",
    "\n",
    "df3.shape"
   ]
  },
  {
   "cell_type": "markdown",
   "metadata": {},
   "source": [
    "### Only 152 out of 7258 have verified account !"
   ]
  },
  {
   "cell_type": "code",
   "execution_count": 217,
   "metadata": {},
   "outputs": [
    {
     "data": {
      "text/plain": [
       "152"
      ]
     },
     "execution_count": 217,
     "metadata": {},
     "output_type": "execute_result"
    }
   ],
   "source": [
    "sum(df3['verified'])"
   ]
  },
  {
   "cell_type": "code",
   "execution_count": 218,
   "metadata": {},
   "outputs": [
    {
     "data": {
      "text/html": [
       "<div>\n",
       "<style scoped>\n",
       "    .dataframe tbody tr th:only-of-type {\n",
       "        vertical-align: middle;\n",
       "    }\n",
       "\n",
       "    .dataframe tbody tr th {\n",
       "        vertical-align: top;\n",
       "    }\n",
       "\n",
       "    .dataframe thead th {\n",
       "        text-align: right;\n",
       "    }\n",
       "</style>\n",
       "<table border=\"1\" class=\"dataframe\">\n",
       "  <thead>\n",
       "    <tr style=\"text-align: right;\">\n",
       "      <th></th>\n",
       "      <th>retweet_count</th>\n",
       "      <th>favorite_count</th>\n",
       "      <th>followers_count</th>\n",
       "      <th>friends_count</th>\n",
       "    </tr>\n",
       "  </thead>\n",
       "  <tbody>\n",
       "    <tr>\n",
       "      <th>count</th>\n",
       "      <td>7258.0</td>\n",
       "      <td>7258.0</td>\n",
       "      <td>7.258000e+03</td>\n",
       "      <td>7258.000000</td>\n",
       "    </tr>\n",
       "    <tr>\n",
       "      <th>mean</th>\n",
       "      <td>0.0</td>\n",
       "      <td>0.0</td>\n",
       "      <td>3.357728e+04</td>\n",
       "      <td>1307.762331</td>\n",
       "    </tr>\n",
       "    <tr>\n",
       "      <th>std</th>\n",
       "      <td>0.0</td>\n",
       "      <td>0.0</td>\n",
       "      <td>8.647023e+05</td>\n",
       "      <td>10569.662489</td>\n",
       "    </tr>\n",
       "    <tr>\n",
       "      <th>min</th>\n",
       "      <td>0.0</td>\n",
       "      <td>0.0</td>\n",
       "      <td>0.000000e+00</td>\n",
       "      <td>0.000000</td>\n",
       "    </tr>\n",
       "    <tr>\n",
       "      <th>25%</th>\n",
       "      <td>0.0</td>\n",
       "      <td>0.0</td>\n",
       "      <td>4.800000e+01</td>\n",
       "      <td>75.000000</td>\n",
       "    </tr>\n",
       "    <tr>\n",
       "      <th>50%</th>\n",
       "      <td>0.0</td>\n",
       "      <td>0.0</td>\n",
       "      <td>2.850000e+02</td>\n",
       "      <td>262.000000</td>\n",
       "    </tr>\n",
       "    <tr>\n",
       "      <th>75%</th>\n",
       "      <td>0.0</td>\n",
       "      <td>0.0</td>\n",
       "      <td>1.208000e+03</td>\n",
       "      <td>737.000000</td>\n",
       "    </tr>\n",
       "    <tr>\n",
       "      <th>max</th>\n",
       "      <td>0.0</td>\n",
       "      <td>0.0</td>\n",
       "      <td>4.848011e+07</td>\n",
       "      <td>596155.000000</td>\n",
       "    </tr>\n",
       "  </tbody>\n",
       "</table>\n",
       "</div>"
      ],
      "text/plain": [
       "       retweet_count  favorite_count  followers_count  friends_count\n",
       "count         7258.0          7258.0     7.258000e+03    7258.000000\n",
       "mean             0.0             0.0     3.357728e+04    1307.762331\n",
       "std              0.0             0.0     8.647023e+05   10569.662489\n",
       "min              0.0             0.0     0.000000e+00       0.000000\n",
       "25%              0.0             0.0     4.800000e+01      75.000000\n",
       "50%              0.0             0.0     2.850000e+02     262.000000\n",
       "75%              0.0             0.0     1.208000e+03     737.000000\n",
       "max              0.0             0.0     4.848011e+07  596155.000000"
      ]
     },
     "execution_count": 218,
     "metadata": {},
     "output_type": "execute_result"
    }
   ],
   "source": [
    "df3[['retweet_count','favorite_count','followers_count','friends_count']].describe()"
   ]
  },
  {
   "cell_type": "markdown",
   "metadata": {},
   "source": [
    "### HIstogram of number of followers and friends. The number below 1000 is not shown."
   ]
  },
  {
   "cell_type": "code",
   "execution_count": 219,
   "metadata": {},
   "outputs": [
    {
     "name": "stdout",
     "output_type": "stream",
     "text": [
      "5236\n",
      "5908\n"
     ]
    }
   ],
   "source": [
    "print(sum(df3['followers_count']<=1000))\n",
    "print(sum(df3['friends_count']<=1000))"
   ]
  },
  {
   "cell_type": "code",
   "execution_count": 220,
   "metadata": {},
   "outputs": [
    {
     "data": {
      "image/png": "[encoded data removed]",
      "text/plain": [
       "<Figure size 1080x576 with 1 Axes>"
      ]
     },
     "metadata": {
      "needs_background": "light"
     },
     "output_type": "display_data"
    }
   ],
   "source": [
    "import numpy as np\n",
    "import matplotlib.pyplot as plt\n",
    "\n",
    "bins = [1e3,2000,4000,6000,1e4,1e5,1e6,1e8] # your bins\n",
    "binslab = ['1e3-2e3','2e3-4e3','4e3-6e3','6e3-1e4','1e4-1e5','1e5-1e6',' > 1e6',''] \n",
    "data1 = df3['followers_count'].to_numpy()\n",
    "data2 = df3['friends_count'].to_numpy()\n",
    "\n",
    "hist1, edgs1 = np.histogram(data1,bins) # make the histogram\n",
    "hist2, edgs2 = np.histogram(data2,bins)\n",
    "\n",
    "hd=[]\n",
    "fig,ax = plt.subplots(figsize=(15,8))\n",
    "h1=ax.bar(np.arange(len(hist1)),hist1,width=0.4,color='c'); hd.append(h1)\n",
    "h1=ax.bar(np.arange(len(hist2))+0.4,hist2,width=0.4,color='b'); hd.append(h1)\n",
    "plt.legend(hd,['followers','friends'],fontsize=20)\n",
    "plt.grid(True)\n",
    "ax.set_axisbelow(True)\n",
    "plt.xticks(np.arange(len(edgs)),binslab,rotation=45,fontsize=20)\n",
    "plt.title('Histogram of number',fontsize=20)\n",
    "#plt.ylim(0,80)\n",
    "plt.yticks(range(0,800,100),fontsize=20)\n",
    "plt.xlabel('Unequal bins',fontsize=20)\n",
    "\n",
    "plt.show()\n"
   ]
  },
  {
   "cell_type": "markdown",
   "metadata": {},
   "source": [
    "### The number of followers per user is much higher for verified users. Similar for number of friends."
   ]
  },
  {
   "cell_type": "code",
   "execution_count": 221,
   "metadata": {},
   "outputs": [
    {
     "name": "stdout",
     "output_type": "stream",
     "text": [
      "\n",
      "# verified users =  152\n",
      "\n",
      "foll_per_user   =    1453196\n",
      "\n",
      "friends_per_user =      10641\n"
     ]
    }
   ],
   "source": [
    "dfverif = df3[df3['verified']]\n",
    "\n",
    "nr = dfverif.shape[0]\n",
    "\n",
    "print('\\n# verified users = ',nr)\n",
    "\n",
    "foll_per_user = sum(dfverif['followers_count']) / nr\n",
    "print('\\nfoll_per_user   = {:10.0f}'.format(foll_per_user))\n",
    "\n",
    "friends_per_user = sum(dfverif['friends_count']) / nr\n",
    "print('\\nfriends_per_user = {:10.0f}'.format(friends_per_user))"
   ]
  },
  {
   "cell_type": "code",
   "execution_count": 222,
   "metadata": {},
   "outputs": [
    {
     "name": "stdout",
     "output_type": "stream",
     "text": [
      "\n",
      "# not verified users =  7106\n",
      "\n",
      "foll_per_user   =       3211\n",
      "\n",
      "friends_per_user =       1108\n"
     ]
    }
   ],
   "source": [
    "dfnverif = df3[~df3['verified']]\n",
    "\n",
    "nr = dfnverif.shape[0]\n",
    "\n",
    "print('\\n# not verified users = ',nr)\n",
    "\n",
    "foll_per_user = sum(dfnverif['followers_count']) / nr\n",
    "print('\\nfoll_per_user   = {:10.0f}'.format(foll_per_user))\n",
    "\n",
    "friends_per_user = sum(dfnverif['friends_count']) / nr\n",
    "print('\\nfriends_per_user = {:10.0f}'.format(friends_per_user))"
   ]
  },
  {
   "cell_type": "markdown",
   "metadata": {},
   "source": [
    "### The verified accounts are mostly of celebrities and media houses. Hence they tend to have huge number of followers."
   ]
  },
  {
   "cell_type": "code",
   "execution_count": 223,
   "metadata": {},
   "outputs": [],
   "source": [
    "dfasc = dfverif.sort_values('followers_count',axis=0,ascending=False,inplace=False)"
   ]
  },
  {
   "cell_type": "code",
   "execution_count": 224,
   "metadata": {},
   "outputs": [
    {
     "name": "stdout",
     "output_type": "stream",
     "text": [
      "     48480108      902 True nytimes\n",
      "     41098020      102 True elonmusk\n",
      "     22816929     1130 True Reuters\n",
      "     18372595      992 True WSJ\n",
      "     16476553     5220 True Forbes\n",
      "      9664741     2745 True mashable\n",
      "      6848611     1298 True business\n",
      "      4553626      410 True CNNnews18\n",
      "      3835571      200 True MarketWatch\n",
      "      3534960     1455 True Entrepreneur\n"
     ]
    }
   ],
   "source": [
    "for indx,rw in dfasc[0:10].iterrows():\n",
    "  print('{0:13d} {1:8d} {2:} {3:s}'.format(rw['followers_count'],rw['friends_count'],rw['verified'],rw['screen_name']))  "
   ]
  }
 ],
 "metadata": {
  "kernelspec": {
   "display_name": "Python 3",
   "language": "python",
   "name": "python3"
  },
  "language_info": {
   "codemirror_mode": {
    "name": "ipython",
    "version": 3
   },
   "file_extension": ".py",
   "mimetype": "text/x-python",
   "name": "python",
   "nbconvert_exporter": "python",
   "pygments_lexer": "ipython3",
   "version": "3.7.6"
  }
 },
 "nbformat": 4,
 "nbformat_minor": 4
}

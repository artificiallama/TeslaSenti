{
 "cells": [
  {
   "cell_type": "markdown",
   "metadata": {},
   "source": [
    "# Combine individual datasets from all sources to create a single file"
   ]
  },
  {
   "cell_type": "code",
   "execution_count": 179,
   "metadata": {
    "scrolled": true
   },
   "outputs": [
    {
     "name": "stdout",
     "output_type": "stream",
     "text": [
      "\n",
      " (4846, 2)\n",
      " (436, 2)\n",
      " (675, 2)\n",
      " (1496, 2)\n",
      " (895, 2)\n",
      " (393, 2)\n",
      " (6000, 2)\n",
      " (3103, 2)\n",
      "\n",
      "Total =  17844\n"
     ]
    }
   ],
   "source": [
    "import pandas as pd\n",
    "\n",
    "df1 = pd.read_csv('../../datasets/dataset1/all-data_senti.csv',usecols=['headline','three_senti'])\n",
    "df2 = pd.read_csv('../../datasets/FiQA/task1_headline_ABSA_train_senti.csv',usecols=['headline','three_senti'])\n",
    "df3 = pd.read_csv('../../datasets/FiQA/task1_post_ABSA_train_senti.csv',usecols=['headline','three_senti'])\n",
    "df4 = pd.read_csv('../../datasets/tiingo_tweets/stockerbot-tweets_1496_clean.csv',usecols=['text','senti'])\n",
    "df5 = pd.read_csv('../../datasets/tiingo_tweets/stockerbot-tiingo_895_clean.csv',usecols=['title','senti'])\n",
    "df6 = pd.read_csv('../../datasets/tesla_tweets/tweet_tesla_2020-06-25_to_2020-06-26_label_393_clean.csv',usecols=['tweet','senti'])\n",
    "df7 = pd.read_csv('../../datasets/google_reviews/reviews_6000.csv')\n",
    "df8 = pd.read_csv('../../datasets/StockTwits_SPY_Sentiment_2017/StockTwits_SPY_Sentiment_2017_3103.csv')\n",
    "\n",
    "df1.dropna(axis=0,how='any',inplace=True)\n",
    "df2.dropna(axis=0,how='any',inplace=True)\n",
    "df3.dropna(axis=0,how='any',inplace=True)\n",
    "df4.dropna(axis=0,how='any',inplace=True)\n",
    "df5.dropna(axis=0,how='any',inplace=True)\n",
    "df6.dropna(axis=0,how='any',inplace=True)\n",
    "df7.dropna(axis=0,how='any',inplace=True)\n",
    "df8.dropna(axis=0,how='any',inplace=True)\n",
    "\n",
    "df1.rename(columns={\"headline\":\"text\",\"three_senti\":\"senti\"},inplace=True)\n",
    "df2.rename(columns={\"headline\":\"text\",\"three_senti\":\"senti\"},inplace=True)\n",
    "df3.rename(columns={\"headline\":\"text\",\"three_senti\":\"senti\"},inplace=True)\n",
    "df5.rename(columns={\"title\":\"text\"},inplace=True)\n",
    "df6.rename(columns={\"tweet\":\"text\"},inplace=True)\n",
    "df7.rename(columns={\"content\":\"text\"},inplace=True)\n",
    "\n",
    "print('\\n',df1.shape)\n",
    "print('',df2.shape)\n",
    "print('',df3.shape)\n",
    "print('',df4.shape)\n",
    "print('',df5.shape)\n",
    "print('',df6.shape)\n",
    "print('',df7.shape)\n",
    "print('',df8.shape)\n",
    "\n",
    "nrows1 = df1.shape[0]\n",
    "nrows2 = df2.shape[0]\n",
    "nrows3 = df3.shape[0]\n",
    "nrows4 = df4.shape[0]\n",
    "nrows5 = df5.shape[0]\n",
    "nrows6 = df6.shape[0]\n",
    "nrows7 = df7.shape[0]\n",
    "nrows8 = df8.shape[0]\n",
    "\n",
    "ntot =  nrows1+nrows2+nrows3+nrows4+nrows5+nrows6+nrows7+nrows8\n",
    "\n",
    "print('\\nTotal = ',ntot)"
   ]
  },
  {
   "cell_type": "markdown",
   "metadata": {},
   "source": [
    "## Each dataset has two columns - first contains the headline/tweet and the second contains the sentiment label."
   ]
  },
  {
   "cell_type": "code",
   "execution_count": 180,
   "metadata": {},
   "outputs": [
    {
     "name": "stdout",
     "output_type": "stream",
     "text": [
      "\n",
      "                                                 text  senti\n",
      "0  According to Gran , the company has no plans t...      0\n",
      "1  Technopolis plans to develop in stages an area...      0\n",
      "2  The international electronic industry company ...     -1\n",
      "3  With the new production plant the company woul...      1\n",
      "4  According to the company 's updated strategy f...      1\n",
      "5  FINANCING OF ASPOCOMP 'S GROWTH Aspocomp is ag...      1\n",
      "6  For the last quarter of 2010 , Componenta 's n...      1\n",
      "7  In the third quarter of 2010 , net sales incre...      1\n",
      "8  Operating profit rose to EUR 13.1 mn from EUR ...      1\n",
      "9  Operating profit totalled EUR 21.1 mn , up fro...      1\n",
      "\n",
      "                                                 text  senti\n",
      "0  Royal Mail chairman Donald Brydon set to step ...     -1\n",
      "1  Stakes High for AstraZeneca Heart Drug Facing ...     -1\n",
      "2  UPDATE 1-Dairy Crest loses a third of Morrison...     -1\n",
      "3  Insight hires Aviva's David Hillier for multi-...      0\n",
      "4  Primark racks up a happy Christmas after stron...      1\n",
      "5  UPDATE 1-Pearson expects to grow this year aft...      1\n",
      "6  Tesco sells Blinkbox and broadband service to ...      0\n",
      "7  Unilever profit rises despite sales slump in C...      1\n",
      "8  Tesco leads leap in FTSE 100; Marks & Spencer ...      1\n",
      "9     Royal Dutch Shell profit rises; dividend up 4%      1\n",
      "\n",
      "                                                 text  senti\n",
      "0  Slowly adding some $FIO here but gotta be care...      1\n",
      "1   $TRX http://stks.co/1KkK Long setup. MACD cross.      1\n",
      "2  I am not optimistic about $amzn both fundement...     -1\n",
      "3  $GRPN might be selling off ahead of $P earning...     -1\n",
      "4  $IACI http://stks.co/tJU Looks good on the wee...      1\n",
      "5           $pcln back over \"up\" trendline from 10/4      1\n",
      "6  RT @robbieLOLZ $NFLX A close above here is loo...      1\n",
      "7  Profit taking on $AAPL this morning?  That has...      1\n",
      "8  $SKX turning. Coming from far could go far. St...      1\n",
      "9  $MOS looking good here at $58.65. Calls are ac...      1\n",
      "\n",
      "                                                 text  senti\n",
      "0  Who says the American Dream is dead? https://t...      1\n",
      "1  Barry Silbert is extremely optimistic on bitco...      1\n",
      "2  How satellites avoid attacks and space junk wh...      0\n",
      "3  .@RealMoney's David Butler's favorite FANG sto...      0\n",
      "4  Don’t miss my convo with one of my favorite th...      0\n",
      "5  U.S. intelligence documents on Nelson Mandela ...      0\n",
      "6  Senate wants emergency alerts to go out throug...      1\n",
      "7  Hedge fund manager Marc Larsy says bitcoin $40...      1\n",
      "8  U.S. proposes expedited appeal in fight with A...      0\n",
      "9  Roger Federer's Uniqlo deal makes him one of t...      1\n",
      "\n",
      "                                                 text  senti\n",
      "0  Breakingviews - Corona Capital: Nike, Microsof...     -1\n",
      "1  Chipmaker STMicroelectronics ups 2020 outlook ...      1\n",
      "2  Hedge funds are sticking with tech, but also b...      0\n",
      "3  Value ETFs see $1 billion in inflows in a mont...      1\n",
      "4    Sunday Strategist: Even Slack Isn’t Covid-Proof     -1\n",
      "5  Wedbush's Ives: FAANG Can Go Another 25-30% Hi...      1\n",
      "6  Amazon reportedly discussing using former J.C....      0\n",
      "7  US STOCKS-Slowing job growth, stimulus worries...     -1\n",
      "8  Microsoft’s Free Rein Over EU Staff Data Spark...     -1\n",
      "9  Stocks making the biggest moves in the premark...      1\n",
      "\n",
      "                                                 text  senti\n",
      "0        Teslas are normal in Columbus Im used to it      0\n",
      "1  Do you agree with @Tesla That solar powered EV...     -1\n",
      "2  Who are these Zoshling creatures? I'm afraid I...      0\n",
      "3  Liked on YouTube: Tesla's Roadrunner Battery C...      1\n",
      "4  Somehow I got my Model Y two weeks earlier tha...      1\n",
      "5                     Of the Tesla didnt auto brake?     -1\n",
      "6                           Ill work for Tesla. Lol.      1\n",
      "7  America - Ventura Highway (Musikladen - 1975) ...      0\n",
      "8  Tesla's autopilot confused a Burger King sign ...     -1\n",
      "9  Tesla's most robust self-driving package will ...     -1\n",
      "\n",
      "                                                 text  senti\n",
      "0  Uninstalled as calendar events keep appearing ...     -1\n",
      "1  i cannt acces my account anymore since their \"...     -1\n",
      "2  Used to be 5 stars. I've used this app for yea...     -1\n",
      "3  Full screen ads ruin it all I've been using th...     -1\n",
      "4                                           Nice app      1\n",
      "5  nice planner that replaced paper planner. i ab...      1\n",
      "6                                              Great      0\n",
      "7                          practical and easy to use      0\n",
      "8  It is an OK app as far as personal entries are...      0\n",
      "9  Hello Team, I bought the complete package in F...     -1\n",
      "\n",
      "                                                 text  senti\n",
      "0  spi analyst need quit beat around bush set pri...     -1\n",
      "1  spi may gap up monday test wednesday buy call ...      1\n",
      "2                   spi ws show middl finger fat kid      1\n",
      "3                              spi go ahead btd dare     -1\n",
      "4                                    up down spi vix     -1\n",
      "5                                           spi bull     -1\n",
      "6  spi insid gimmick slogan dump financ bond retu...     -1\n",
      "7  spi treasuri market say everyon long fook thin...     -1\n",
      "8            trump tax no more trump helthcar no spi     -1\n",
      "9                               spi readi vix friday     -1\n"
     ]
    }
   ],
   "source": [
    "print('\\n',df1.head(10))\n",
    "print('\\n',df2.head(10))\n",
    "print('\\n',df3.head(10))\n",
    "print('\\n',df4.head(10))\n",
    "print('\\n',df5.head(10))\n",
    "print('\\n',df6.head(10))\n",
    "print('\\n',df7.head(10))\n",
    "print('\\n',df8.head(10))"
   ]
  },
  {
   "cell_type": "code",
   "execution_count": 181,
   "metadata": {},
   "outputs": [
    {
     "data": {
      "image/png": "[encoded data removed]",
      "text/plain": [
       "<Figure size 720x576 with 8 Axes>"
      ]
     },
     "metadata": {
      "needs_background": "light"
     },
     "output_type": "display_data"
    }
   ],
   "source": [
    "import seaborn as sns\n",
    "import matplotlib.pyplot as plt\n",
    "\n",
    "fig = plt.figure(figsize=(10,8))\n",
    "fig.subplots_adjust(hspace=0.4, wspace=0.8)\n",
    "ax = fig.add_subplot(4, 2, 1)\n",
    "p1 = sns.countplot(df1.senti)\n",
    "p1.set(xlabel=None)\n",
    "plt.title('headline')\n",
    "\n",
    "ax = fig.add_subplot(4, 2, 2)\n",
    "p1 = sns.countplot(df2.senti)\n",
    "p1.set(xlabel=None)\n",
    "plt.title('FiQA headline')\n",
    "\n",
    "ax = fig.add_subplot(4, 2, 3)\n",
    "p1 = sns.countplot(df3.senti)\n",
    "p1.set(xlabel=None)\n",
    "plt.title('FiQA post')\n",
    "\n",
    "ax = fig.add_subplot(4, 2, 4)\n",
    "p1 = sns.countplot(df4.senti)\n",
    "p1.set(xlabel=None)\n",
    "plt.title('tweets')\n",
    "\n",
    "ax = fig.add_subplot(4, 2, 5)\n",
    "p1 = sns.countplot(df5.senti)\n",
    "p1.set(xlabel=None)\n",
    "plt.title('tiingo')\n",
    "\n",
    "ax = fig.add_subplot(4, 2, 6)\n",
    "p1 = sns.countplot(df6.senti)\n",
    "p1.set(xlabel=None)\n",
    "plt.title('tesla tweets')\n",
    "\n",
    "ax = fig.add_subplot(4, 2, 7)\n",
    "p1 = sns.countplot(df7.senti)\n",
    "p1.set(xlabel=None)\n",
    "plt.title('google app reviews')\n",
    "\n",
    "ax = fig.add_subplot(4, 2, 8)\n",
    "p1 = sns.countplot(df8.senti)\n",
    "p1.set(xlabel=None)\n",
    "plt.title('stocktwits')\n",
    "\n",
    "plt.show()\n"
   ]
  },
  {
   "cell_type": "code",
   "execution_count": 182,
   "metadata": {},
   "outputs": [],
   "source": [
    "# Combine the three datasets\n",
    "vert_stack = pd.concat([df1,df2,df3,df4,df5,df6,df7,df8],axis=0)\n",
    "\n",
    "# Shuffle the rows which are ordered according to the source of data.\n",
    "vert_stack = vert_stack.sample(frac=1,random_state=333)\n",
    "\n",
    "vert_stack.reset_index(drop=True,inplace=True)"
   ]
  },
  {
   "cell_type": "code",
   "execution_count": 183,
   "metadata": {},
   "outputs": [
    {
     "name": "stdout",
     "output_type": "stream",
     "text": [
      "(17844, 2) \n",
      "\n"
     ]
    },
    {
     "data": {
      "text/html": [
       "<div>\n",
       "<style scoped>\n",
       "    .dataframe tbody tr th:only-of-type {\n",
       "        vertical-align: middle;\n",
       "    }\n",
       "\n",
       "    .dataframe tbody tr th {\n",
       "        vertical-align: top;\n",
       "    }\n",
       "\n",
       "    .dataframe thead th {\n",
       "        text-align: right;\n",
       "    }\n",
       "</style>\n",
       "<table border=\"1\" class=\"dataframe\">\n",
       "  <thead>\n",
       "    <tr style=\"text-align: right;\">\n",
       "      <th></th>\n",
       "      <th>text</th>\n",
       "      <th>senti</th>\n",
       "    </tr>\n",
       "  </thead>\n",
       "  <tbody>\n",
       "    <tr>\n",
       "      <th>0</th>\n",
       "      <td>$3.98 Billion in Sales Expected for Jacobs Eng...</td>\n",
       "      <td>1</td>\n",
       "    </tr>\n",
       "    <tr>\n",
       "      <th>1</th>\n",
       "      <td>Operating result , excluding one-off items , t...</td>\n",
       "      <td>-1</td>\n",
       "    </tr>\n",
       "    <tr>\n",
       "      <th>2</th>\n",
       "      <td>great app, better than Google's free one. but ...</td>\n",
       "      <td>0</td>\n",
       "    </tr>\n",
       "    <tr>\n",
       "      <th>3</th>\n",
       "      <td>said trump polit dive market spi nk</td>\n",
       "      <td>-1</td>\n",
       "    </tr>\n",
       "    <tr>\n",
       "      <th>4</th>\n",
       "      <td>qqq spi iwm spx rut</td>\n",
       "      <td>-1</td>\n",
       "    </tr>\n",
       "  </tbody>\n",
       "</table>\n",
       "</div>"
      ],
      "text/plain": [
       "                                                text  senti\n",
       "0  $3.98 Billion in Sales Expected for Jacobs Eng...      1\n",
       "1  Operating result , excluding one-off items , t...     -1\n",
       "2  great app, better than Google's free one. but ...      0\n",
       "3                said trump polit dive market spi nk     -1\n",
       "4                                qqq spi iwm spx rut     -1"
      ]
     },
     "execution_count": 183,
     "metadata": {},
     "output_type": "execute_result"
    }
   ],
   "source": [
    "print(vert_stack.shape,'\\n')\n",
    "\n",
    "nrows = vert_stack.shape[0]\n",
    "\n",
    "assert nrows==ntot,\"Stacked dataset size is different from combined size of individual datasets\"\n",
    "\n",
    "vert_stack.head()"
   ]
  },
  {
   "cell_type": "code",
   "execution_count": 184,
   "metadata": {},
   "outputs": [
    {
     "name": "stdout",
     "output_type": "stream",
     "text": [
      "3\n",
      "\n",
      "[ 1 -1  0]\n",
      "\n",
      "-1    5948\n",
      " 1    5948\n",
      " 0    5948\n",
      "Name: senti, dtype: int64\n"
     ]
    }
   ],
   "source": [
    "print(vert_stack['senti'].nunique())\n",
    "\n",
    "print('')\n",
    "\n",
    "print(vert_stack['senti'].unique())\n",
    "\n",
    "print('')\n",
    "\n",
    "print(vert_stack['senti'].value_counts())"
   ]
  },
  {
   "cell_type": "code",
   "execution_count": 185,
   "metadata": {},
   "outputs": [
    {
     "data": {
      "image/png": "[encoded data removed]",
      "text/plain": [
       "<Figure size 432x288 with 1 Axes>"
      ]
     },
     "metadata": {
      "needs_background": "light"
     },
     "output_type": "display_data"
    }
   ],
   "source": [
    "import seaborn as sns\n",
    "import matplotlib.pyplot as plt\n",
    "\n",
    "fig = plt.figure(1)\n",
    "sns.countplot(vert_stack.senti)\n",
    "plt.title('All tweets/headlines : Total rows = '+str(nrows),fontsize=15)\n",
    "plt.savefig('figs/all_17844_sentiment.png', bbox_inches = 'tight')\n",
    "\n",
    "plt.show()"
   ]
  },
  {
   "cell_type": "code",
   "execution_count": 186,
   "metadata": {},
   "outputs": [
    {
     "name": "stdout",
     "output_type": "stream",
     "text": [
      "\n",
      "Done writing\n"
     ]
    }
   ],
   "source": [
    "fname = '../../datasets/tiingo_tweets/all_tweets_headlines_17844.csv'  \n",
    "\n",
    "vert_stack.to_csv(fname,index=False)\n",
    "\n",
    "print('\\nDone writing')"
   ]
  }
 ],
 "metadata": {
  "kernelspec": {
   "display_name": "Python 3",
   "language": "python",
   "name": "python3"
  },
  "language_info": {
   "codemirror_mode": {
    "name": "ipython",
    "version": 3
   },
   "file_extension": ".py",
   "mimetype": "text/x-python",
   "name": "python",
   "nbconvert_exporter": "python",
   "pygments_lexer": "ipython3",
   "version": "3.7.6"
  }
 },
 "nbformat": 4,
 "nbformat_minor": 4
}

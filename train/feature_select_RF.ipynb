{
 "cells": [
  {
   "cell_type": "code",
   "execution_count": 1,
   "metadata": {},
   "outputs": [
    {
     "name": "stdout",
     "output_type": "stream",
     "text": [
      "\n",
      "shape =  (17844, 2)\n",
      "\n",
      "shape =  (17844, 2)\n",
      "\n",
      " text     object\n",
      "senti     int64\n",
      "dtype: object\n",
      "\n",
      " text       object\n",
      "senti    category\n",
      "dtype: object\n",
      "\n",
      "\tdf.shape =  (17844, 2)\n"
     ]
    },
    {
     "data": {
      "text/html": [
       "<div>\n",
       "<style scoped>\n",
       "    .dataframe tbody tr th:only-of-type {\n",
       "        vertical-align: middle;\n",
       "    }\n",
       "\n",
       "    .dataframe tbody tr th {\n",
       "        vertical-align: top;\n",
       "    }\n",
       "\n",
       "    .dataframe thead th {\n",
       "        text-align: right;\n",
       "    }\n",
       "</style>\n",
       "<table border=\"1\" class=\"dataframe\">\n",
       "  <thead>\n",
       "    <tr style=\"text-align: right;\">\n",
       "      <th></th>\n",
       "      <th>text</th>\n",
       "      <th>senti</th>\n",
       "    </tr>\n",
       "  </thead>\n",
       "  <tbody>\n",
       "    <tr>\n",
       "      <th>0</th>\n",
       "      <td>$3.98 Billion in Sales Expected for Jacobs Eng...</td>\n",
       "      <td>1</td>\n",
       "    </tr>\n",
       "    <tr>\n",
       "      <th>1</th>\n",
       "      <td>Operating result , excluding one-off items , t...</td>\n",
       "      <td>-1</td>\n",
       "    </tr>\n",
       "    <tr>\n",
       "      <th>2</th>\n",
       "      <td>great app, better than Google's free one. but ...</td>\n",
       "      <td>0</td>\n",
       "    </tr>\n",
       "    <tr>\n",
       "      <th>3</th>\n",
       "      <td>said trump polit dive market spi nk</td>\n",
       "      <td>-1</td>\n",
       "    </tr>\n",
       "    <tr>\n",
       "      <th>4</th>\n",
       "      <td>qqq spi iwm spx rut</td>\n",
       "      <td>-1</td>\n",
       "    </tr>\n",
       "  </tbody>\n",
       "</table>\n",
       "</div>"
      ],
      "text/plain": [
       "                                                text senti\n",
       "0  $3.98 Billion in Sales Expected for Jacobs Eng...     1\n",
       "1  Operating result , excluding one-off items , t...    -1\n",
       "2  great app, better than Google's free one. but ...     0\n",
       "3                said trump polit dive market spi nk    -1\n",
       "4                                qqq spi iwm spx rut    -1"
      ]
     },
     "execution_count": 1,
     "metadata": {},
     "output_type": "execute_result"
    }
   ],
   "source": [
    "import pandas as pd\n",
    "\n",
    "fname = '../../datasets/tiingo_tweets/all_tweets_headlines_17844.csv'  \n",
    "\n",
    "df = pd.read_csv(fname)\n",
    "\n",
    "print('\\nshape = ',df.shape)\n",
    "\n",
    "df.dropna(axis=0,how='any',inplace=True)\n",
    "\n",
    "print('\\nshape = ',df.shape)\n",
    "\n",
    "print('\\n',df.dtypes)\n",
    "\n",
    "df['senti'] = df['senti'].astype('category')\n",
    "\n",
    "print('\\n',df.dtypes)\n",
    "\n",
    "print('\\n\\tdf.shape = ',df.shape)\n",
    "\n",
    "df.head()"
   ]
  },
  {
   "cell_type": "code",
   "execution_count": 2,
   "metadata": {},
   "outputs": [
    {
     "name": "stdout",
     "output_type": "stream",
     "text": [
      "True\n"
     ]
    },
    {
     "data": {
      "text/html": [
       "<div>\n",
       "<style scoped>\n",
       "    .dataframe tbody tr th:only-of-type {\n",
       "        vertical-align: middle;\n",
       "    }\n",
       "\n",
       "    .dataframe tbody tr th {\n",
       "        vertical-align: top;\n",
       "    }\n",
       "\n",
       "    .dataframe thead th {\n",
       "        text-align: right;\n",
       "    }\n",
       "</style>\n",
       "<table border=\"1\" class=\"dataframe\">\n",
       "  <thead>\n",
       "    <tr style=\"text-align: right;\">\n",
       "      <th></th>\n",
       "      <th>text</th>\n",
       "      <th>senti</th>\n",
       "    </tr>\n",
       "  </thead>\n",
       "  <tbody>\n",
       "  </tbody>\n",
       "</table>\n",
       "</div>"
      ],
      "text/plain": [
       "Empty DataFrame\n",
       "Columns: [text, senti]\n",
       "Index: []"
      ]
     },
     "execution_count": 2,
     "metadata": {},
     "output_type": "execute_result"
    }
   ],
   "source": [
    "print(df.index.is_unique)\n",
    "\n",
    "if not df.index.is_unique:\n",
    " print('\\nResetting')   \n",
    " df.reset_index(drop=True,inplace=True)\n",
    " print(df.index.is_unique)\n",
    "\n",
    "df[df.index.duplicated(keep=False)]"
   ]
  },
  {
   "cell_type": "code",
   "execution_count": 3,
   "metadata": {},
   "outputs": [
    {
     "name": "stdout",
     "output_type": "stream",
     "text": [
      "  1    5948\n",
      " 0    5948\n",
      "-1    5948\n",
      "Name: senti, dtype: int64\n",
      "\n",
      "\tdf.shape =  (17844, 2)\n"
     ]
    },
    {
     "data": {
      "image/png": "[encoded data removed]",
      "text/plain": [
       "<Figure size 432x288 with 1 Axes>"
      ]
     },
     "metadata": {
      "needs_background": "light"
     },
     "output_type": "display_data"
    }
   ],
   "source": [
    "import seaborn as sns\n",
    "import matplotlib.pyplot as plt\n",
    "\n",
    "print('',df['senti'].value_counts())\n",
    "\n",
    "plt.figure(1)\n",
    "sns.countplot(df.senti)\n",
    "\n",
    "print('\\n\\tdf.shape = ',df.shape)\n",
    "\n",
    "plt.show()"
   ]
  },
  {
   "cell_type": "code",
   "execution_count": 4,
   "metadata": {},
   "outputs": [
    {
     "name": "stdout",
     "output_type": "stream",
     "text": [
      "\n",
      "Entered*** \n",
      "\n",
      "Entered*** \n"
     ]
    },
    {
     "data": {
      "text/plain": [
       "(17844,)"
      ]
     },
     "execution_count": 4,
     "metadata": {},
     "output_type": "execute_result"
    }
   ],
   "source": [
    "import text_clean as tc\n",
    "import importlib\n",
    "importlib.reload(tc)\n",
    "\n",
    "cond = df['text'].apply(lambda x : tc.count_cashtags(x) > 5)\n",
    "\n",
    "cond.shape"
   ]
  },
  {
   "cell_type": "code",
   "execution_count": 5,
   "metadata": {},
   "outputs": [
    {
     "name": "stdout",
     "output_type": "stream",
     "text": [
      "(17627, 2)\n"
     ]
    }
   ],
   "source": [
    "df.drop(index=df[cond].index,inplace=True)\n",
    "\n",
    "print(df.shape)"
   ]
  },
  {
   "cell_type": "code",
   "execution_count": 6,
   "metadata": {},
   "outputs": [
    {
     "name": "stdout",
     "output_type": "stream",
     "text": [
      "(17627,)\n"
     ]
    },
    {
     "data": {
      "text/plain": [
       "False    17627\n",
       "Name: text, dtype: int64"
      ]
     },
     "execution_count": 6,
     "metadata": {},
     "output_type": "execute_result"
    }
   ],
   "source": [
    "cond2 = df['text'].apply(lambda x : tc.count_cashtags(x) > 5)\n",
    "\n",
    "print(cond2.shape)\n",
    "\n",
    "cond2.value_counts()"
   ]
  },
  {
   "cell_type": "code",
   "execution_count": 7,
   "metadata": {},
   "outputs": [
    {
     "name": "stdout",
     "output_type": "stream",
     "text": [
      "\n",
      "nrows =  17627\n",
      "\n",
      "Done cleaning\n"
     ]
    }
   ],
   "source": [
    "nrows = df.shape[0]\n",
    "print('\\nnrows = ',nrows)\n",
    "\n",
    "df['tidy_text'] = df['text'].apply(lambda x : tc.clean_emoji_url(x))\n",
    "df['tidy_text'] = df['tidy_text'].apply(lambda x : tc.remove_hashtag(x))\n",
    "df['tidy_text'] = df['tidy_text'].apply(lambda x : tc.remove_cashtag(x))\n",
    "df['tidy_text'] = df['tidy_text'].apply(lambda x : tc.remove_mention(x))\n",
    "df['tidy_text'] = df['tidy_text'].apply(lambda x : tc.replace_chars(x))\n",
    "df['tidy_text'] = df['tidy_text'].apply(lambda x : tc.normalize_doc(x))\n",
    "\n",
    "print('\\nDone cleaning')"
   ]
  },
  {
   "cell_type": "code",
   "execution_count": 8,
   "metadata": {},
   "outputs": [
    {
     "name": "stdout",
     "output_type": "stream",
     "text": [
      "Index(['text', 'senti', 'tidy_text'], dtype='object')\n",
      "(17627,)\n"
     ]
    },
    {
     "data": {
      "text/plain": [
       "False    17506\n",
       "True       121\n",
       "Name: tidy_text, dtype: int64"
      ]
     },
     "execution_count": 8,
     "metadata": {},
     "output_type": "execute_result"
    }
   ],
   "source": [
    "print(df.columns)\n",
    "\n",
    "cond = df['tidy_text'].apply(lambda x : tc.count_toks(x) == 0)\n",
    "\n",
    "print(cond.shape)\n",
    "cond.value_counts()"
   ]
  },
  {
   "cell_type": "code",
   "execution_count": 9,
   "metadata": {},
   "outputs": [
    {
     "name": "stdout",
     "output_type": "stream",
     "text": [
      "(17506, 3)\n"
     ]
    }
   ],
   "source": [
    "df.drop(index=df[cond].index,inplace=True)\n",
    "\n",
    "print(df.shape)"
   ]
  },
  {
   "cell_type": "code",
   "execution_count": 10,
   "metadata": {},
   "outputs": [
    {
     "name": "stdout",
     "output_type": "stream",
     "text": [
      "(17506,)\n"
     ]
    },
    {
     "data": {
      "text/plain": [
       "False    17506\n",
       "Name: tidy_text, dtype: int64"
      ]
     },
     "execution_count": 10,
     "metadata": {},
     "output_type": "execute_result"
    }
   ],
   "source": [
    "cond2 = df['tidy_text'].apply(lambda x : tc.count_toks(x) == 0)\n",
    "\n",
    "print(cond2.shape)\n",
    "\n",
    "cond2.value_counts()"
   ]
  },
  {
   "cell_type": "code",
   "execution_count": 11,
   "metadata": {},
   "outputs": [
    {
     "name": "stdout",
     "output_type": "stream",
     "text": [
      "  0    5845\n",
      "-1    5833\n",
      " 1    5828\n",
      "Name: senti, dtype: int64\n"
     ]
    },
    {
     "data": {
      "image/png": "[encoded data removed]",
      "text/plain": [
       "<Figure size 432x288 with 1 Axes>"
      ]
     },
     "metadata": {
      "needs_background": "light"
     },
     "output_type": "display_data"
    }
   ],
   "source": [
    "import seaborn as sns\n",
    "import matplotlib.pyplot as plt\n",
    "\n",
    "print('',df['senti'].value_counts())\n",
    "\n",
    "plt.figure(1)\n",
    "sns.countplot(df.senti)\n",
    "\n",
    "plt.show()"
   ]
  },
  {
   "cell_type": "code",
   "execution_count": 13,
   "metadata": {},
   "outputs": [
    {
     "name": "stdout",
     "output_type": "stream",
     "text": [
      "\n",
      " <class 'pandas.core.series.Series'>\n",
      "\n",
      " <class 'pandas.core.series.Series'>\n",
      "\n",
      " <class 'pandas.core.series.Series'>\n",
      "\n",
      " <class 'pandas.core.series.Series'>\n",
      "\n",
      "shape =  (17506,)\n",
      "shape =  (17506,)\n"
     ]
    }
   ],
   "source": [
    "from sklearn import model_selection\n",
    "import numpy as np\n",
    "\n",
    "# split the dataset into training and validation datasets \n",
    "#train_x, valid_x, train_y, valid_y = model_selection.train_test_split(df['tidy_text'], df['senti'],test_size=0.03,\\\n",
    "#                                                                      random_state=123,stratify=df['senti'])\n",
    "#train_x, valid_x, train_y, valid_y = model_selection.train_test_split(df['tidy_text'], df['senti'])\n",
    "\n",
    "train_x = df['tidy_text']\n",
    "train_y = df['senti']\n",
    "\n",
    "#print('\\n',isinstance(train_x,list))\n",
    "print('\\n',type(train_x))\n",
    "print('\\n',type(train_y))\n",
    "#print('\\n',type(valid_x))\n",
    "#print('\\n',type(valid_y))\n",
    "print('\\n',type(df['tidy_text']))\n",
    "print('\\n',type(df['senti']))\n",
    "\n",
    "print('\\nshape = ',np.shape(train_x))\n",
    "print('shape = ',np.shape(train_y))\n",
    "\n",
    "#print('\\n',train_x.iloc[0],train_y.iloc[0])\n",
    "#print('\\n',train_x.iloc[3],train_y.iloc[3])"
   ]
  },
  {
   "cell_type": "code",
   "execution_count": 16,
   "metadata": {},
   "outputs": [
    {
     "data": {
      "text/plain": [
       "<Figure size 432x288 with 0 Axes>"
      ]
     },
     "metadata": {},
     "output_type": "display_data"
    },
    {
     "data": {
      "image/png": "[encoded data removed]",
      "text/plain": [
       "<Figure size 432x288 with 1 Axes>"
      ]
     },
     "metadata": {},
     "output_type": "display_data"
    }
   ],
   "source": [
    "#Feature importance\n",
    "classifier = ensemble.RandomForestClassifier()\n",
    "classifier.fit(xtrain_count, train_y)\n",
    "\n",
    "importances = classifier.feature_importances_\n",
    "\n",
    "#print('\\n importances = \\n',importances)\n",
    "\n",
    "feature_results = pd.DataFrame({'feature': featnm, \n",
    "                                'importance': importances})\n",
    "#feature_results.head(5)\n",
    "\n",
    "# Show the top 10 most important\n",
    "feature_results = feature_results.sort_values('importance', ascending = False).reset_index(drop=True)\n",
    "#print(feature_results.head(5))\n",
    "\n",
    "plt.figure(1)\n",
    "plt.style.use('fivethirtyeight')\n",
    "# Plot the 20 most important features in a horizontal bar chart\n",
    "feature_results.loc[:20, :].plot(x = 'feature', y = 'importance',edgecolor = 'k',kind='barh', color = 'blue');\n",
    "plt.xlabel('Relative Importance', size = 20); plt.ylabel('')\n",
    "plt.title('Feature Importances from Random Forest', size = 20);\n",
    "\n"
   ]
  },
  {
   "cell_type": "code",
   "execution_count": 30,
   "metadata": {},
   "outputs": [
    {
     "name": "stdout",
     "output_type": "stream",
     "text": [
      "\n",
      "----topx =  100\n",
      "shape =  (17506, 100)\n",
      "\n",
      "----topx =  1000\n",
      "shape =  (17506, 1000)\n",
      "\n",
      "----topx =  2000\n",
      "shape =  (17506, 2000)\n",
      "\n",
      "----topx =  4000\n",
      "shape =  (17506, 4000)\n",
      "\n",
      "----topx =  8000\n",
      "shape =  (17506, 8000)\n",
      "\n",
      "----topx =  12950\n",
      "shape =  (17506, 12950)\n"
     ]
    },
    {
     "data": {
      "image/png": "[encoded data removed]",
      "text/plain": [
       "<Figure size 432x288 with 1 Axes>"
      ]
     },
     "metadata": {},
     "output_type": "display_data"
    }
   ],
   "source": [
    "importlib.reload(ML)\n",
    "import ML_methods as ML\n",
    "\n",
    "topn = [100, 1000, 2000, 4000, 8000, num_features]\n",
    "\n",
    "nf = len(topn)\n",
    "\n",
    "check_params = {'alpha': [0.1, 0.5, 1.0, 1.25, 1.5, 1.75, 2.0, 3.0, 4.0, 5.0, 10.0, 20.0,50.0,100.0,500.0]}\n",
    "refit_score = 'accuracy_score'\n",
    "\n",
    "npar = len(check_params['alpha'])\n",
    "\n",
    "trainarr = np.empty([nf,npar])\n",
    "testarr  = np.empty([nf,npar])\n",
    "\n",
    "i=0\n",
    "for topx in topn:\n",
    "   print('\\n----topx = ',topx) \n",
    "   most_important = feature_results['feature'][0:topx]\n",
    "   indices = [featnm.index(x) for x in most_important]\n",
    "   xtrain_red = xtrain_count[:,indices]\n",
    "   print('shape = ',np.shape(xtrain_red))\n",
    "   bestmodel, res = ML.grid_search_wrapper(naive_bayes.MultinomialNB(),\n",
    "                                            xtrain_red, train_y,\n",
    "                                            check_params, refit_score)\n",
    "   trainarr[i,:] =  res['mean_train_score']\n",
    "   testarr[i,:]  =  res['mean_test_score']\n",
    "   i += 1\n",
    "\n",
    "traincl = ['y','c','b','g','r','k']\n",
    "\n",
    "hd=[]\n",
    "\n",
    "plt.figure(1)\n",
    "for i in np.arange(nf):\n",
    " h1,=plt.plot(check_params['alpha'],trainarr[i,:], color=traincl[i], lw=1.5); hd.append(h1)\n",
    " plt.plot(check_params['alpha'],testarr[i,:], color=traincl[i],linestyle='--',lw=1.5)\n",
    "plt.legend(hd,topn,fontsize=15,bbox_to_anchor=(0.95,1.0))\n",
    "plt.grid(True); plt.xticks(fontsize=15); plt.yticks(fontsize=15)\n",
    "plt.title('Accuracy (Random Forest feature selection)',fontsize=15)\n",
    "plt.xlabel('Laplace smoothing parameter',fontsize=15)\n",
    "plt.savefig('figs/RF_featureselect_laplace.png', bbox_inches = 'tight')\n",
    "\n",
    "\n",
    "plt.show()    \n",
    "\n",
    "\n"
   ]
  }
 ],
 "metadata": {
  "kernelspec": {
   "display_name": "Python 3",
   "language": "python",
   "name": "python3"
  },
  "language_info": {
   "codemirror_mode": {
    "name": "ipython",
    "version": 3
   },
   "file_extension": ".py",
   "mimetype": "text/x-python",
   "name": "python",
   "nbconvert_exporter": "python",
   "pygments_lexer": "ipython3",
   "version": "3.7.6"
  }
 },
 "nbformat": 4,
 "nbformat_minor": 4
}

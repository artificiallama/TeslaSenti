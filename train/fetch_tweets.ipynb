{
 "cells": [
  {
   "cell_type": "markdown",
   "metadata": {},
   "source": [
    "# Download tweets\n",
    "This is not streaming. These tweets are used for training.\n",
    "Non premium accounts have restriction on how far back in time one can go in fetching tweets."
   ]
  },
  {
   "cell_type": "code",
   "execution_count": 13,
   "metadata": {},
   "outputs": [],
   "source": [
    "#https://bhaskarvk.github.io/2015/01/how-to-use-twitters-search-rest-api-most-effectively./\n",
    "import os\n",
    "import tweepy as tw\n",
    "\n",
    "consumer_key = ''\n",
    "consumer_secret = ''\n",
    "access_token = ''\n",
    "access_token_secret = ''\n",
    "\n",
    "auth = tw.OAuthHandler(consumer_key, consumer_secret)\n",
    "auth.set_access_token(access_token, access_token_secret)\n",
    "api = tw.API(auth, wait_on_rate_limit=True, wait_on_rate_limit_notify=True)"
   ]
  },
  {
   "cell_type": "code",
   "execution_count": 14,
   "metadata": {},
   "outputs": [
    {
     "name": "stdout",
     "output_type": "stream",
     "text": [
      "\n",
      " <tweepy.cursor.ItemIterator object at 0x0000026C6C50F688>\n",
      "\n",
      "csvfilename =  tweet_download/tweet_tesla_2021-01-04_to_2021-01-06_15000.csv\n"
     ]
    }
   ],
   "source": [
    "search_words = \"TESLA OR TSLA -filter:retweets\"\n",
    "date_since = \"2020-08-04\"\n",
    "date_until = \"2020-08-06\"\n",
    "\n",
    "csvfilename = 'tweet_download/'+'tweet_tesla_'+date_since+'_to_'+date_until+'_15000.csv'\n",
    "\n",
    "#Collect tweets\n",
    "tweets = tw.Cursor(api.search,\n",
    "              q=search_words,\n",
    "              lang=\"en\",since=date_since, until=date_until,tweet_mode='extended').items(1000)\n",
    "\n",
    "print('\\n',tweets)\n",
    "\n",
    "print('\\ncsvfilename = ',csvfilename)"
   ]
  },
  {
   "cell_type": "code",
   "execution_count": 10,
   "metadata": {},
   "outputs": [
    {
     "name": "stdout",
     "output_type": "stream",
     "text": [
      "My stock profile pretty much is @MonsterEnergy @Tesla @elonmusk  @Bitcoin  and #Dogecoin  haha 💰💰💰💰💰💰💰💰🔒\n"
     ]
    }
   ],
   "source": [
    "#  t1 = next(tweets)\n",
    "#  print(t1.full_text)"
   ]
  },
  {
   "cell_type": "code",
   "execution_count": 15,
   "metadata": {
    "scrolled": false
   },
   "outputs": [],
   "source": [
    "import numpy as np\n",
    "import preprocessor as p\n",
    "import csv\n",
    "\n",
    "p.set_options(p.OPT.EMOJI,p.OPT.SMILEY)\n",
    "#toks = ['#AAPL','#MSFT','#TSLA']\n",
    "\n",
    "csvfile = open(csvfilename,'w',encoding='utf-8',newline='')\n",
    "csvwriter = csv.writer(csvfile)\n",
    "csvwriter.writerow(['id_str','date','tweet','retweeted','retweet_count','favorite_count','screenname','user','verified','followers','friends',\n",
    "                    'source','user_url','user_created'])\n",
    "\n",
    "\n",
    "for tweet in tweets:\n",
    " if i%50==0:\n",
    "  print(i)  \n",
    " tweetidstr = \"%30s\"%(tweet.id_str)    \n",
    " #print('\\n-------------i = ',i,tweetidstr)\n",
    " #print('',type(tweetidstr),type(tweet.full_text))   \n",
    " try:   \n",
    "  csvwriter.writerow([tweetidstr,tweet.created_at,p.clean(tweet.full_text),tweet.retweeted,\n",
    "                      tweet.retweet_count,tweet.favorite_count, tweet.user.screen_name, tweet.user.name, tweet.user.verified, tweet.user.followers_count,\n",
    "                      tweet.user.friends_count,tweet.source,tweet.user.url,tweet.user.created_at])   \n",
    " except:\n",
    "  print(\"EXCEPTION\")\n",
    " #print('\\n--------',i,len(tweet.full_text),tweet.created_at, tweet.retweeted, tweet.truncated)\n",
    " #print('',tweet.source, tweet.retweet_count, tweet.favorite_count)\n",
    " #print('hashtags = ',tweet.entities.get('hashtags'))\n",
    " #print(tweet.text)\n",
    " #print('id     = ',tweet.id)\n",
    " #print('id_str = ',tweet.id_str)\n",
    " #print('>>',tweet.full_text)\n",
    " #print('truncated = ',tweet.truncated)\n",
    "#  print('tweet created at = ',tweet.created_at)   \n",
    "#  print('tweet.retweeted = ',tweet.retweeted)   \n",
    "#  print('source = ',tweet.source)   \n",
    "#  print('coordinates = ',tweet.coordinates)    \n",
    "#  print('place = ',tweet.place)\n",
    "#  print('geoEnabled = ',tweet.user.geo_enabled)   \n",
    "#  print('retweetcount = ',tweet.retweet_count)  \n",
    "#  print('tweet fav = ',tweet.favorite_count)    \n",
    "#  print('user id = ',tweet.user.id)  \n",
    "#  print('screen_name = ',tweet.user.screen_name)   \n",
    "#  print('name = ',tweet.user.name)  \n",
    "#  print('url = ',tweet.user.url)\n",
    "#  print('verified = ',tweet.user.verified)\n",
    "#  print('acctdesc = ',tweet.user.description)  \n",
    "#  print('location = ',tweet.user.location) \n",
    "#  print('following = ',tweet.user.friends_count) \n",
    "#  print('followers = ',tweet.user.followers_count) \n",
    "#  print('totaltweets = ',tweet.user.statuses_count) \n",
    "#  print('usercreatedts = ',tweet.user.created_at)    \n",
    "#  print('hashtags = ',tweet.entities.get('hashtags')) \n",
    "#  print('urls = ',tweet.entities.get('urls'))\n",
    "#  print('user_mentions = ',tweet.entities.get('user_mentions'))\n",
    "#  print('media = ',tweet.entities.get('media'))\n",
    "#  print('symbols = ',tweet.entities.get('symbols'))\n",
    "#  print('polls = ',tweet.entities.get('polls'))\n",
    " #print('**',p.clean(tweet.full_text))\n",
    "\n",
    "\n",
    "csvfile.close()\n"
   ]
  }
 ],
 "metadata": {
  "kernelspec": {
   "display_name": "Python 3",
   "language": "python",
   "name": "python3"
  },
  "language_info": {
   "codemirror_mode": {
    "name": "ipython",
    "version": 3
   },
   "file_extension": ".py",
   "mimetype": "text/x-python",
   "name": "python",
   "nbconvert_exporter": "python",
   "pygments_lexer": "ipython3",
   "version": "3.7.6"
  }
 },
 "nbformat": 4,
 "nbformat_minor": 4
}
